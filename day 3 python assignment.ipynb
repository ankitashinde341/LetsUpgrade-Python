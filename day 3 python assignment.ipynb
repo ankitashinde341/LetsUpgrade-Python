{
 "cells": [
  {
   "cell_type": "code",
   "execution_count": 6,
   "metadata": {},
   "outputs": [
    {
     "name": "stdout",
     "output_type": "stream",
     "text": [
      "13\n",
      "13 is prime\n"
     ]
    }
   ],
   "source": [
    "\"\"\"ASSIGNMENT 2- prime or not\"\"\"\n",
    "n=eval(input())\n",
    "count=0\n",
    "if n>1:\n",
    "    for i in range(2,n):\n",
    "        if n%i==0:\n",
    "            print(n,\"is not prime\")\n",
    "            break;\n",
    "    else:\n",
    "        print(n,\"is prime\")\n",
    "else:\n",
    "    print(n,\"is not prime\")"
   ]
  },
  {
   "cell_type": "code",
   "execution_count": 7,
   "metadata": {},
   "outputs": [
    {
     "name": "stdout",
     "output_type": "stream",
     "text": [
      "10\n",
      "10 is not prime\n"
     ]
    }
   ],
   "source": [
    "n=eval(input())\n",
    "count=0\n",
    "if n>1:\n",
    "    for i in range(2,n):\n",
    "        if n%i==0:\n",
    "            print(n,\"is not prime\")\n",
    "            break;\n",
    "    else:\n",
    "        print(n,\"is prime\")\n",
    "else:\n",
    "    print(n,\"is not prime\")"
   ]
  },
  {
   "cell_type": "code",
   "execution_count": 10,
   "metadata": {},
   "outputs": [
    {
     "name": "stdout",
     "output_type": "stream",
     "text": [
      "5\n",
      "15\n"
     ]
    }
   ],
   "source": [
    "\"\"\"ASSIGNMENT 1- sum of n numbers using while loop\"\"\"\n",
    "n=eval(input())\n",
    "sum=0\n",
    "i=0\n",
    "while(i<=n):\n",
    "    sum=sum+i\n",
    "    i=i+1\n",
    "print(sum)\n",
    "    "
   ]
  }
 ],
 "metadata": {
  "kernelspec": {
   "display_name": "Python 3",
   "language": "python",
   "name": "python3"
  }
 },
 "nbformat": 4,
 "nbformat_minor": 4
}
