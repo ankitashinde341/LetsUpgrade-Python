{
 "cells": [
  {
   "cell_type": "markdown",
   "metadata": {},
   "source": [
    "\n",
    "\n",
    "#   Assignment No.7 \n",
    "\n"
   ]
  },
  {
   "cell_type": "code",
   "execution_count": 5,
   "metadata": {},
   "outputs": [
    {
     "name": "stdout",
     "output_type": "stream",
     "text": [
      "The expected result: {'FTP': 21, 'SSH': 22, 'Telnet': 23, 'HTTP': 80}\n"
     ]
    }
   ],
   "source": [
    "\n",
    "#Q1. Use the dictionary, Port1 = {21 : \"FTP\" , 22 :\"SSH\" , 23 : \"Telnet\" , 80 : \"HTTP\" },and make a new dictionary in which keys become values and values become keys, as shown: Port2 = {“FTP\": 21, \"SSH\": 22, “Telnet\": 23, \"HTTP\": 80}¶\n",
    "\n",
    "Port1 = {21 : \"FTP\" , 22 :\"SSH\" , 23 : \"Telnet\" , 80 : \"HTTP\" }\n",
    "Port2 = {value:key for key,value in Port1.items()}\n",
    "print(\"The expected result:\",Port2)\n",
    "\n"
   ]
  },
  {
   "cell_type": "code",
   "execution_count": 8,
   "metadata": {},
   "outputs": [
    {
     "name": "stdout",
     "output_type": "stream",
     "text": [
      "[3, 7, 11, 9]\n"
     ]
    }
   ],
   "source": [
    "## Q2. Take a list of tuple as shown. List1 =[(1,2), (3,4), (5,6),(4,5)]. Make a new list which contains sum of number of tuples.\n",
    "\n",
    "\n",
    "List1 =[(1,2), (3,4), (5,6),(4,5)]\n",
    "res=[]\n",
    "for each in range(0,len(List1)):\n",
    "    a,b=List1[each]\n",
    "    res.append(a+b)\n",
    "print(res)\n",
    "\n",
    "\n"
   ]
  },
  {
   "cell_type": "code",
   "execution_count": 9,
   "metadata": {},
   "outputs": [
    {
     "name": "stdout",
     "output_type": "stream",
     "text": [
      "[1, 2, 3, 1, 2, 'a', 'hit', 'less']\n"
     ]
    }
   ],
   "source": [
    "## Q3.Take a list as List2 = [(1,2,3), [1,2], ['a','hit','less']]. The List contains tuple and lists. Make the elements of inner lists and tuples to outer list\n",
    "\n",
    "\n",
    "List2 = [(1,2,3),[1,2],['a','hit','less']]\n",
    "List3= []\n",
    "[List3.extend(i) for i in List2 ]\n",
    "print(List3)\n"
   ]
  },
  {
   "cell_type": "code",
   "execution_count": null,
   "metadata": {},
   "outputs": [],
   "source": []
  }
 ],
 "metadata": {
  "kernelspec": {
   "display_name": "Python 3",
   "language": "python",
   "name": "python3"
  },
  "language_info": {
   "codemirror_mode": {
    "name": "ipython",
    "version": 3
   },
   "file_extension": ".py",
   "mimetype": "text/x-python",
   "name": "python",
   "nbconvert_exporter": "python",
   "pygments_lexer": "ipython3",
   "version": "3.7.6"
  }
 },
 "nbformat": 4,
 "nbformat_minor": 4
}
