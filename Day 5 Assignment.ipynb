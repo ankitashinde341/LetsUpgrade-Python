{
 "cells": [
  {
   "cell_type": "markdown",
   "metadata": {},
   "source": [
    "# Assignment 1 Sort it in ascending order but all zeros should be at right hand side.\n"
   ]
  },
  {
   "cell_type": "code",
   "execution_count": 4,
   "metadata": {},
   "outputs": [
    {
     "name": "stdout",
     "output_type": "stream",
     "text": [
      "[1, 1, 1, 2, 2, 3, 4, 4, 10, 56, 56, 0, 0, 0, 0, 0]\n"
     ]
    }
   ],
   "source": [
    "list1=[0,1,2,10,4,1,0,56,2,0,1,3,0,56,0,4]\n",
    "list1.sort()\n",
    "a=list1.count(0);\n",
    "print(list1[a:]+list1[:a])\n"
   ]
  },
  {
   "cell_type": "markdown",
   "metadata": {},
   "source": [
    "# Merge two sorted lists &produce one sorted list(use only one loop )(complexicity should be less than O(n^2)¶\n",
    "\n"
   ]
  },
  {
   "cell_type": "code",
   "execution_count": 16,
   "metadata": {},
   "outputs": [
    {
     "name": "stdout",
     "output_type": "stream",
     "text": [
      "[5, 10, 15, 20, 25, 35, 40, 45, 60, 70, 80]\n"
     ]
    }
   ],
   "source": [
    "list1 = [10,20,40,60,70,80]\n",
    "list2 = [5,15,25,35,45,60]\n",
    "MergedList =list1+list2\n",
    "ResSortedList=[]\n",
    "for i in range(min(MergedList),max(MergedList)+1):\n",
    "    if i in MergedList:\n",
    "        ResSortedList.append(i)\n",
    "print(ResSortedList)\n"
   ]
  },
  {
   "cell_type": "code",
   "execution_count": null,
   "metadata": {},
   "outputs": [],
   "source": []
  }
 ],
 "metadata": {
  "kernelspec": {
   "display_name": "Python 3",
   "language": "python",
   "name": "python3"
  },
  "language_info": {
   "codemirror_mode": {
    "name": "ipython",
    "version": 3
   },
   "file_extension": ".py",
   "mimetype": "text/x-python",
   "name": "python",
   "nbconvert_exporter": "python",
   "pygments_lexer": "ipython3",
   "version": "3.7.6"
  }
 },
 "nbformat": 4,
 "nbformat_minor": 4
}
